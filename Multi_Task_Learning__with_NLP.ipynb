{
  "nbformat": 4,
  "nbformat_minor": 0,
  "metadata": {
    "colab": {
      "provenance": [],
      "authorship_tag": "ABX9TyMNhqD2fJQKV1pD54nGRGVW",
      "include_colab_link": true
    },
    "kernelspec": {
      "name": "python3",
      "display_name": "Python 3"
    },
    "language_info": {
      "name": "python"
    }
  },
  "cells": [
    {
      "cell_type": "markdown",
      "metadata": {
        "id": "view-in-github",
        "colab_type": "text"
      },
      "source": [
        "<a href=\"https://colab.research.google.com/github/gokul-sunil50/Multi-Task-Learning/blob/main/Multi_Task_Learning__with_NLP.ipynb\" target=\"_parent\"><img src=\"https://colab.research.google.com/assets/colab-badge.svg\" alt=\"Open In Colab\"/></a>"
      ]
    },
    {
      "cell_type": "markdown",
      "source": [
        "**Detect Emotions, Violence, Hate from Text**\n",
        "\n",
        "\n",
        "\n",
        "**Emotion**\n",
        "0:Sadness,\n",
        "1:Joy,\n",
        "2:Love,\n",
        "3:Anger,\n",
        "4:Fear,\n",
        "5:Surprise\n",
        "\n",
        "**violence**\n",
        "0:Harmful_Traditional_practice,\n",
        "1:Physical_violence,\n",
        "2:Economic_violence,\n",
        "3:Emotional_violence,\n",
        "4:Sexual_violence\n",
        "\n",
        "**Hate**\n",
        "0:Hate speech,\n",
        "1:Offensive Speech,\n",
        "2:Neither\n",
        "\n",
        "\n",
        "\n"
      ],
      "metadata": {
        "id": "MJA_2HGuYDL5"
      }
    },
    {
      "cell_type": "markdown",
      "source": [
        "**1. Loading the Data**"
      ],
      "metadata": {
        "id": "cMLdwV2OlF4Y"
      }
    },
    {
      "cell_type": "code",
      "source": [
        "import pandas as pd\n",
        "import numpy as np\n",
        "from sklearn.preprocessing import LabelEncoder\n",
        "import warnings\n",
        "warnings.filterwarnings('ignore')\n",
        "import nltk\n",
        "from nltk.corpus import stopwords\n",
        "from tensorflow.keras.preprocessing.text import Tokenizer\n",
        "from tensorflow.keras.preprocessing.sequence import pad_sequences\n",
        "from tensorflow import keras\n",
        "import seaborn as sns\n",
        "from sklearn.metrics import confusion_matrix\n",
        "import matplotlib.pyplot as plt\n"
      ],
      "metadata": {
        "id": "AN6VxqaoXsIZ"
      },
      "execution_count": null,
      "outputs": []
    },
    {
      "cell_type": "code",
      "source": [
        "emotion_df = pd.read_csv('emotion.csv')\n",
        "emotion_df.head()\n"
      ],
      "metadata": {
        "id": "9jxxZ3t8lwNn"
      },
      "execution_count": null,
      "outputs": []
    },
    {
      "cell_type": "code",
      "source": [
        "violence_df = pd.read_csv('violence.csv')\n",
        "violence_df.head()"
      ],
      "metadata": {
        "id": "nRl-mJsCmPO3"
      },
      "execution_count": null,
      "outputs": []
    },
    {
      "cell_type": "code",
      "source": [
        "hate_df=pd.read_csv('hate.csv')\n",
        "hate_df.head()"
      ],
      "metadata": {
        "id": "lScwqRI0my1O"
      },
      "execution_count": null,
      "outputs": []
    },
    {
      "cell_type": "markdown",
      "source": [
        "**2. Data Pre-processing**"
      ],
      "metadata": {
        "id": "MrPqxgdnnGBP"
      }
    },
    {
      "cell_type": "code",
      "source": [
        "#dropping unwanted columns\n",
        "emotion_df.drop(columns = ['Unnamed: 0'], inplace=True)\n",
        "violence_df.drop(columns = ['Tweet_ID'], inplace=True)\n",
        "hate_df=hate_df[['tweet','class']]\n"
      ],
      "metadata": {
        "id": "M4QCH7R0nMOm"
      },
      "execution_count": null,
      "outputs": []
    },
    {
      "cell_type": "code",
      "source": [
        "emotion_df.head()"
      ],
      "metadata": {
        "id": "ASp882-JonMr"
      },
      "execution_count": null,
      "outputs": []
    },
    {
      "cell_type": "code",
      "source": [
        "violence_df.head()"
      ],
      "metadata": {
        "id": "74kMwPxaor9G"
      },
      "execution_count": null,
      "outputs": []
    },
    {
      "cell_type": "code",
      "source": [
        "hate_df.head()\n"
      ],
      "metadata": {
        "id": "oyxHOk5qLfaL"
      },
      "execution_count": null,
      "outputs": []
    },
    {
      "cell_type": "code",
      "source": [
        "emotion_df.columns,violence_df.columns,hate_df.columns"
      ],
      "metadata": {
        "id": "K6r3WlxqMhMn"
      },
      "execution_count": null,
      "outputs": []
    },
    {
      "cell_type": "code",
      "source": [
        "#renaming the column\n",
        "violence_df.rename(columns = {'tweet':'text','type':'label'}, inplace = True)\n",
        "hate_df.rename(columns = {'tweet':'text','class':'label'}, inplace= True)"
      ],
      "metadata": {
        "id": "d90KrX-zMvRI"
      },
      "execution_count": null,
      "outputs": []
    },
    {
      "cell_type": "code",
      "source": [
        "emotion_df.columns,violence_df.columns,hate_df.columns"
      ],
      "metadata": {
        "id": "ARD5UWWEPAOF"
      },
      "execution_count": null,
      "outputs": []
    },
    {
      "cell_type": "code",
      "source": [
        "#checking for null values\n",
        "emotion_df.isna().sum(),violence_df.isna().sum(),hate_df.isna().sum()"
      ],
      "metadata": {
        "id": "hVIc_lExPF9_"
      },
      "execution_count": null,
      "outputs": []
    },
    {
      "cell_type": "code",
      "source": [
        "emotion_df.shape,violence_df.shape,hate_df.shape"
      ],
      "metadata": {
        "id": "B3Ehr9MxQIH3"
      },
      "execution_count": null,
      "outputs": []
    },
    {
      "cell_type": "markdown",
      "source": [
        "Taking(Extracting)12 thousand rows from each dataset\n"
      ],
      "metadata": {
        "id": "AiSbSa95Qifg"
      }
    },
    {
      "cell_type": "code",
      "source": [
        "emotion_df['label'].value_counts()"
      ],
      "metadata": {
        "id": "Xt4BKSdkQqwX"
      },
      "execution_count": null,
      "outputs": []
    },
    {
      "cell_type": "code",
      "source": [
        "e_df=pd.DataFrame()\n",
        "for i in range(6):\n",
        "  subset=emotion_df[emotion_df['label'] == i].sample(n=2000,random_state=42)\n",
        "  e_df=pd.concat([e_df,subset])"
      ],
      "metadata": {
        "id": "hiEO5_4EQ7uH"
      },
      "execution_count": null,
      "outputs": []
    },
    {
      "cell_type": "code",
      "source": [
        "e_df.shape"
      ],
      "metadata": {
        "id": "DxUVLKUwR__4"
      },
      "execution_count": null,
      "outputs": []
    },
    {
      "cell_type": "code",
      "source": [
        "emotion_df=e_df.copy()"
      ],
      "metadata": {
        "id": "QX_8XCpbSCGg"
      },
      "execution_count": null,
      "outputs": []
    },
    {
      "cell_type": "code",
      "source": [
        "emotion_df['label'].value_counts()"
      ],
      "metadata": {
        "id": "w23UfCYaSIFH"
      },
      "execution_count": null,
      "outputs": []
    },
    {
      "cell_type": "code",
      "source": [
        "violence_df['label'].value_counts()"
      ],
      "metadata": {
        "id": "baEJUibXSLdH"
      },
      "execution_count": null,
      "outputs": []
    },
    {
      "cell_type": "code",
      "source": [
        "#we just want 4998 rows from the sexual_violence label\n",
        "sexual_violence=violence_df[violence_df['label']=='sexual_violence'].sample(n=4998,random_state=42)\n",
        "violence_df=violence_df[violence_df['label']!='sexual_violence']"
      ],
      "metadata": {
        "id": "SSNMf320SSxv"
      },
      "execution_count": null,
      "outputs": []
    },
    {
      "cell_type": "code",
      "source": [
        "violence_df.shape"
      ],
      "metadata": {
        "id": "6vf0YUDAToCP"
      },
      "execution_count": null,
      "outputs": []
    },
    {
      "cell_type": "code",
      "source": [
        "violence_df=pd.concat([sexual_violence,violence_df],axis = 0)"
      ],
      "metadata": {
        "id": "SUOOTW3STtrn"
      },
      "execution_count": null,
      "outputs": []
    },
    {
      "cell_type": "code",
      "source": [
        "violence_df.shape"
      ],
      "metadata": {
        "id": "Xg0EVoMpT-JX"
      },
      "execution_count": null,
      "outputs": []
    },
    {
      "cell_type": "code",
      "source": [
        "hate_df['label'].value_counts()"
      ],
      "metadata": {
        "id": "nqfRTkzVUA7v"
      },
      "execution_count": null,
      "outputs": []
    },
    {
      "cell_type": "code",
      "source": [
        "offensive_speech = hate_df[hate_df['label']==1].sample(n=6407,random_state=42)\n",
        "hate_df=hate_df[hate_df['label']!=1]"
      ],
      "metadata": {
        "id": "Lq7z-dscUKnH"
      },
      "execution_count": null,
      "outputs": []
    },
    {
      "cell_type": "code",
      "source": [
        "hate_df.shape"
      ],
      "metadata": {
        "id": "lCrkHhSVU7C_"
      },
      "execution_count": null,
      "outputs": []
    },
    {
      "cell_type": "code",
      "source": [
        "hate_df=pd.concat([offensive_speech,hate_df],axis = 0)"
      ],
      "metadata": {
        "id": "bv7tBrojU_xn"
      },
      "execution_count": null,
      "outputs": []
    },
    {
      "cell_type": "code",
      "source": [
        "hate_df.shape"
      ],
      "metadata": {
        "id": "ZMC94rSiVNo4"
      },
      "execution_count": null,
      "outputs": []
    },
    {
      "cell_type": "code",
      "source": [
        "emotion_df.shape,violence_df.shape,hate_df.shape"
      ],
      "metadata": {
        "id": "EW35W-INVPH4"
      },
      "execution_count": null,
      "outputs": []
    },
    {
      "cell_type": "code",
      "source": [
        "emotion_df.head(3)"
      ],
      "metadata": {
        "id": "2GGd3fN6VV3X"
      },
      "execution_count": null,
      "outputs": []
    },
    {
      "cell_type": "code",
      "source": [
        "violence_df.head(3)"
      ],
      "metadata": {
        "id": "6nsxvZ7SVgz4"
      },
      "execution_count": null,
      "outputs": []
    },
    {
      "cell_type": "code",
      "source": [
        "hate_df.head(3)"
      ],
      "metadata": {
        "id": "-OwOOjA3VjP5"
      },
      "execution_count": null,
      "outputs": []
    },
    {
      "cell_type": "code",
      "source": [
        "#resetting the indexes\n",
        "emotion_df.reset_index(drop = True, inplace=True)\n",
        "violence_df.reset_index(drop=True,inplace=True)\n",
        "hate_df.reset_index(drop=True,inplace=True)\n"
      ],
      "metadata": {
        "id": "-vQBnTkMVljw"
      },
      "execution_count": null,
      "outputs": []
    },
    {
      "cell_type": "code",
      "source": [
        "emotion_df.head(3)"
      ],
      "metadata": {
        "id": "JlEgvVYfWQun"
      },
      "execution_count": null,
      "outputs": []
    },
    {
      "cell_type": "code",
      "source": [
        "violence_df.head(3)"
      ],
      "metadata": {
        "id": "hrdxBkqxWUNX"
      },
      "execution_count": null,
      "outputs": []
    },
    {
      "cell_type": "code",
      "source": [
        "hate_df.head(3)"
      ],
      "metadata": {
        "id": "IMVW03kUWXbX"
      },
      "execution_count": null,
      "outputs": []
    },
    {
      "cell_type": "markdown",
      "source": [
        "**3.Label Encoding**\n"
      ],
      "metadata": {
        "id": "m9gI47Y2Wgxb"
      }
    },
    {
      "cell_type": "code",
      "source": [
        "label_encoder = LabelEncoder()\n",
        "violence_df['label']= label_encoder.fit_transform(violence_df['label'])\n",
        "hate_df['label'] = label_encoder.fit_transform(hate_df['label'])\n"
      ],
      "metadata": {
        "id": "BRh9Z4lvWmv2"
      },
      "execution_count": null,
      "outputs": []
    },
    {
      "cell_type": "code",
      "source": [
        "violence_df.head()"
      ],
      "metadata": {
        "id": "cJTsQJ3dYYn_"
      },
      "execution_count": null,
      "outputs": []
    },
    {
      "cell_type": "code",
      "source": [
        "violence_df['label'].unique()"
      ],
      "metadata": {
        "id": "tNcd05w2Yt-X"
      },
      "execution_count": null,
      "outputs": []
    },
    {
      "cell_type": "code",
      "source": [
        "hate_df.head()"
      ],
      "metadata": {
        "id": "CRTtF61CkNkN"
      },
      "execution_count": null,
      "outputs": []
    },
    {
      "cell_type": "code",
      "source": [
        "hate_df['label'].unique()"
      ],
      "metadata": {
        "id": "TAw7rijFkH4I"
      },
      "execution_count": null,
      "outputs": []
    },
    {
      "cell_type": "markdown",
      "source": [
        "**4.Stopwords Removal**"
      ],
      "metadata": {
        "id": "oBUBFygDZTVa"
      }
    },
    {
      "cell_type": "code",
      "source": [
        "nltk.download('stopwords')\n",
        "nltk.download('punkt_tab')"
      ],
      "metadata": {
        "id": "4eRqrqx-ZY1-"
      },
      "execution_count": null,
      "outputs": []
    },
    {
      "cell_type": "code",
      "source": [
        "#loading the stopwords\n",
        "stop_words = set(stopwords.words('english'))"
      ],
      "metadata": {
        "id": "-APGNIota8oH"
      },
      "execution_count": null,
      "outputs": []
    },
    {
      "cell_type": "code",
      "source": [
        "len(stop_words)"
      ],
      "metadata": {
        "id": "_7jwSElnceVn"
      },
      "execution_count": null,
      "outputs": []
    },
    {
      "cell_type": "code",
      "source": [
        "#stopwords removal function\n",
        "def remove_stopwords(text):\n",
        "  all_words = nltk.word_tokenize(text)\n",
        "  filtered_words= [word for word in all_words if word.lower()not in stop_words]\n",
        "  return ' '.join(filtered_words) # Join with a space\n",
        "emotion_df['text'] = emotion_df['text'].apply(remove_stopwords)\n",
        "violence_df['text'] = violence_df['text'].apply(remove_stopwords)\n",
        "hate_df['text'] = hate_df['text'].apply(remove_stopwords)\n"
      ],
      "metadata": {
        "id": "ckvBkNurckio"
      },
      "execution_count": null,
      "outputs": []
    },
    {
      "cell_type": "code",
      "source": [
        "emotion_df.head(3)"
      ],
      "metadata": {
        "id": "_hFqWmzGeCDT"
      },
      "execution_count": null,
      "outputs": []
    },
    {
      "cell_type": "code",
      "source": [
        "violence_df.head(3)"
      ],
      "metadata": {
        "id": "e4l9lEFve4e_"
      },
      "execution_count": null,
      "outputs": []
    },
    {
      "cell_type": "code",
      "source": [
        "hate_df.head(3)"
      ],
      "metadata": {
        "id": "84cLFW5Gfh8w"
      },
      "execution_count": null,
      "outputs": []
    },
    {
      "cell_type": "markdown",
      "source": [
        "**5.Tokenization & Padding**"
      ],
      "metadata": {
        "id": "sHDvuSAGhAdj"
      }
    },
    {
      "cell_type": "code",
      "source": [
        "tokenizer = Tokenizer()\n",
        "tokenizer.fit_on_texts(pd.concat([emotion_df['text'],violence_df['text'],hate_df['text']]))"
      ],
      "metadata": {
        "id": "IeH8TtFRhFC_"
      },
      "execution_count": null,
      "outputs": []
    },
    {
      "cell_type": "code",
      "source": [
        "sample_size = 5593 # Based on the size of violence_df\n",
        "\n",
        "emotion_df = emotion_df.sample(n=sample_size, random_state=42)\n",
        "violence_df = violence_df.sample(n=sample_size, random_state=42) # violence_df already has 5593\n",
        "hate_df = hate_df.sample(n=sample_size, random_state=42)"
      ],
      "metadata": {
        "id": "7qVlNGD3gUW3"
      },
      "execution_count": null,
      "outputs": []
    },
    {
      "cell_type": "code",
      "source": [
        "emotion_sequences = tokenizer.texts_to_sequences(emotion_df['text'])\n",
        "violence_sequences = tokenizer.texts_to_sequences(violence_df['text'])\n",
        "hate_sequences = tokenizer.texts_to_sequences(hate_df['text'])"
      ],
      "metadata": {
        "id": "ofdFrvfziVr_"
      },
      "execution_count": null,
      "outputs": []
    },
    {
      "cell_type": "code",
      "source": [
        "emotion_df['text'].iloc[2]"
      ],
      "metadata": {
        "id": "FcIeD_J3jKGI"
      },
      "execution_count": null,
      "outputs": []
    },
    {
      "cell_type": "code",
      "source": [
        "emotion_sequences[2:3]"
      ],
      "metadata": {
        "id": "7BD7fYSijUWQ"
      },
      "execution_count": null,
      "outputs": []
    },
    {
      "cell_type": "code",
      "source": [
        "max_length = 50\n",
        "emotion_padded = pad_sequences(emotion_sequences, maxlen= max_length, padding='post')\n",
        "violence_padded = pad_sequences(violence_sequences, maxlen=max_length, padding='post')\n",
        "hate_padded = pad_sequences(hate_sequences, maxlen= max_length, padding= 'post')"
      ],
      "metadata": {
        "id": "9Slpop4EFFl7"
      },
      "execution_count": null,
      "outputs": []
    },
    {
      "cell_type": "code",
      "source": [
        "emotion_padded[2:3]"
      ],
      "metadata": {
        "id": "NAuxHzUAGDe0"
      },
      "execution_count": null,
      "outputs": []
    },
    {
      "cell_type": "code",
      "source": [
        "#generating labels in numpy array format\n",
        "emotion_labels= np.array(emotion_df['label'])\n",
        "violence_labels= np.array(violence_df['label'])\n",
        "hate_labels= np.array(hate_df['label'])"
      ],
      "metadata": {
        "id": "BJYpr5G9GMlU"
      },
      "execution_count": null,
      "outputs": []
    },
    {
      "cell_type": "markdown",
      "source": [
        "**6.Model Definition**"
      ],
      "metadata": {
        "id": "ZLS-VUH9HHYA"
      }
    },
    {
      "cell_type": "code",
      "source": [
        "#prepare separate inputs for each dataset\n",
        "emotion_input = emotion_padded\n",
        "violence_input = violence_padded\n",
        "hate_input = hate_padded"
      ],
      "metadata": {
        "id": "Q174bBU4HNZ7"
      },
      "execution_count": null,
      "outputs": []
    },
    {
      "cell_type": "code",
      "source": [
        "#defining multiple input layers for each task\n",
        "emotion_input_layer = keras.layers.Input(shape = (max_length,), name = 'emotion_input')\n",
        "violence_input_layer = keras.layers.Input(shape = (max_length,), name = 'violence_input')\n",
        "hate_input_layer = keras.layers.Input(shape = (max_length,), name = 'hate_input')"
      ],
      "metadata": {
        "id": "qx5VNy11Hqw0"
      },
      "execution_count": null,
      "outputs": []
    },
    {
      "cell_type": "code",
      "source": [
        "#use as Shared embedding layer\n",
        "embedding_layer = keras.layers.Embedding(input_dim = len(tokenizer.word_index) + 1, output_dim =128)"
      ],
      "metadata": {
        "id": "t1EqiF7zRxe-"
      },
      "execution_count": null,
      "outputs": []
    },
    {
      "cell_type": "code",
      "source": [
        "#APPLY THE EMBEDDING LAYER TO EACH INPUT\n",
        "emotion_embedding = embedding_layer(emotion_input_layer)\n",
        "violence_embedding = embedding_layer(violence_input_layer)\n",
        "hate_embedding = embedding_layer(hate_input_layer)"
      ],
      "metadata": {
        "id": "4KorXSjESULn"
      },
      "execution_count": null,
      "outputs": []
    },
    {
      "cell_type": "code",
      "source": [
        "#shared LSTM layer\n",
        "shared_lstm = keras.layers.LSTM(64, return_sequences=True)"
      ],
      "metadata": {
        "id": "gcoCKGpFSwur"
      },
      "execution_count": null,
      "outputs": []
    },
    {
      "cell_type": "code",
      "source": [
        "emotion_lstm = shared_lstm(emotion_embedding)\n",
        "violence_lstm = shared_lstm(violence_embedding)\n",
        "hate_lstm = shared_lstm(hate_embedding)\n"
      ],
      "metadata": {
        "id": "w_BbjXSLUbRn"
      },
      "execution_count": null,
      "outputs": []
    },
    {
      "cell_type": "code",
      "source": [
        "#shared global average pooling layer and dropout layer\n",
        "shared_pooling = keras.layers.GlobalAveragePooling1D()\n",
        "shared_dropout = keras.layers.Dropout(0.5)\n"
      ],
      "metadata": {
        "id": "52bwxN0qUwIa"
      },
      "execution_count": null,
      "outputs": []
    },
    {
      "cell_type": "code",
      "source": [
        "emotion_features =shared_dropout(shared_pooling(emotion_lstm))\n",
        "violence_features =shared_dropout(shared_pooling(violence_lstm))\n",
        "hate_features =shared_dropout(shared_pooling(hate_lstm))"
      ],
      "metadata": {
        "id": "F3wZiVLKVJ7r"
      },
      "execution_count": null,
      "outputs": []
    },
    {
      "cell_type": "code",
      "source": [
        "len(emotion_df['label'].unique()),len(violence_df['label'].unique()),len(hate_df['label'].unique())"
      ],
      "metadata": {
        "id": "5tdNqjlEV_zn"
      },
      "execution_count": null,
      "outputs": []
    },
    {
      "cell_type": "code",
      "source": [
        "#output layers\n",
        "emotion_output = keras.layers.Dense(6, activation = 'softmax', name='emotion_output')(emotion_features)\n",
        "violence_output = keras.layers.Dense(5, activation = 'softmax', name= 'violence_output')(violence_features)\n",
        "hate_output = keras.layers.Dense(3, activation = 'softmax', name= 'hate_output')(hate_features)"
      ],
      "metadata": {
        "id": "Z5kEDC7IWq9m"
      },
      "execution_count": null,
      "outputs": []
    },
    {
      "cell_type": "code",
      "source": [
        "#compile the model with multiple inputs and outputs\n",
        "model = keras.models.Model(inputs = [emotion_input_layer, violence_input_layer, hate_input_layer],outputs = [emotion_output, violence_output, hate_output])\n",
        "model.compile(optimizer = 'adam',\n",
        "              loss={\n",
        "                  'emotion_output': 'sparse_categorical_crossentropy',\n",
        "                  'violence_output': 'sparse_categorical_crossentropy',\n",
        "                  'hate_output':'sparse_categorical_crossentropy'\n",
        "              },\n",
        "              metrics = {\n",
        "                  'emotion_output' :'accuracy',\n",
        "                  'violence_output':'accuracy',\n",
        "                  'hate_output': 'accuracy'\n",
        "                  })\n"
      ],
      "metadata": {
        "id": "xeXsmFcnXp9u"
      },
      "execution_count": null,
      "outputs": []
    },
    {
      "cell_type": "code",
      "source": [
        "model.summary()"
      ],
      "metadata": {
        "id": "1pgXV8B8ZgoA"
      },
      "execution_count": null,
      "outputs": []
    },
    {
      "cell_type": "code",
      "source": [
        "#trainng the model with separate inputs\n",
        "model.fit(x = {'emotion_input' : emotion_input,\n",
        "               'violence_input' : violence_input,\n",
        "               'hate_input' : hate_input},\n",
        "          y = {'emotion_output' : emotion_labels,\n",
        "               'violence_output' : violence_labels,\n",
        "               'hate_output' : hate_labels},\n",
        "          epochs = 10,\n",
        "          batch_size =4)"
      ],
      "metadata": {
        "id": "H6fR5--bavC-"
      },
      "execution_count": null,
      "outputs": []
    },
    {
      "cell_type": "markdown",
      "source": [
        "**7.Prediction and Evaluation**"
      ],
      "metadata": {
        "id": "31pHrP5Jqp44"
      }
    },
    {
      "cell_type": "code",
      "source": [
        "prediction = model.predict({'emotion_input': emotion_input,\n",
        "                            'violence_input': violence_input,\n",
        "                            'hate_input': hate_input})"
      ],
      "metadata": {
        "id": "sHjbTX5dqvnP"
      },
      "execution_count": null,
      "outputs": []
    },
    {
      "cell_type": "code",
      "source": [
        "prediction"
      ],
      "metadata": {
        "id": "3Ab91PXJrIhs"
      },
      "execution_count": null,
      "outputs": []
    },
    {
      "cell_type": "code",
      "source": [
        "emotion_pred = np.argmax(prediction[0],axis = 1)\n",
        "violence_pred = np.argmax(prediction[1],axis = 1)\n",
        "hate_pred = np.argmax(prediction[2], axis =1)"
      ],
      "metadata": {
        "id": "tDGWKpPPrMW6"
      },
      "execution_count": null,
      "outputs": []
    },
    {
      "cell_type": "code",
      "source": [
        "violence_df['label'].unique()"
      ],
      "metadata": {
        "id": "TmizXIAVtRMC"
      },
      "execution_count": null,
      "outputs": []
    },
    {
      "cell_type": "code",
      "source": [
        "def plot_cm(true, pred, title, labels):\n",
        "  cf = confusion_matrix(true, pred, normalize = 'true')\n",
        "  plt.figure(figsize = (7,6))\n",
        "  sns.heatmap(cf , annot =True , cmap = 'Blues', xticklabels=labels, yticklabels = labels)\n",
        "  plt.title(title)\n",
        "  plt.ylabel('Actual')\n",
        "  plt.xlabel('Predicted')\n",
        "\n",
        "emotion_labels_text=['sadness', 'joy', 'love', 'anger', 'fear', 'surprise']\n",
        "violence_labels_text=['sexual_violence', 'physical_violence','emotional_violence','Harmful_traditional_practice','economic_violence']\n",
        "hate_labels_text=['offensive speech', 'Neither', 'Hate speech']\n"
      ],
      "metadata": {
        "id": "T_w3oum1r3Ck"
      },
      "execution_count": null,
      "outputs": []
    },
    {
      "cell_type": "code",
      "source": [
        "plot_cm(emotion_labels, emotion_pred, 'Confusion Matrix for Emotion', emotion_labels_text)\n",
        "plot_cm(violence_labels, violence_pred, 'Confusion Matrix for Violence', violence_labels_text)\n",
        "plot_cm(hate_labels, hate_pred, 'Confusion Matrix for Hate', hate_labels_text)\n"
      ],
      "metadata": {
        "id": "WXKMWbz_tRJx"
      },
      "execution_count": null,
      "outputs": []
    },
    {
      "cell_type": "markdown",
      "source": [
        "**8.Manual Testing**"
      ],
      "metadata": {
        "id": "hYO0ZR7UjGN-"
      }
    },
    {
      "cell_type": "code",
      "source": [
        "def classify_text(input_text):\n",
        "    #preprocess the input text\n",
        "    input_text_cleaned = remove_stopwords(input_text)\n",
        "    input_sequence = tokenizer.texts_to_sequences([input_text_cleaned])\n",
        "    input_padded = pad_sequences(input_sequence, maxlen = max_length, padding = 'post')\n",
        "\n",
        "    #prediction - Predict only on the single input text\n",
        "    predictions = model.predict({'emotion_input': input_padded,\n",
        "                                 'violence_input': input_padded, # Use input_padded for all inputs\n",
        "                                 'hate_input': input_padded})\n",
        "\n",
        "    # Get the predicted label (index) for each task\n",
        "    emotion_pred_index = np.argmax(predictions[0], axis = 1)[0]\n",
        "    violence_pred_index = np.argmax(predictions[1], axis = 1)[0]\n",
        "    hate_pred_index = np.argmax(predictions[2], axis = 1)[0]\n",
        "\n",
        "\n",
        "    #determine major label\n",
        "    major_labels= ['Emotion', 'Violence', 'Hate']\n",
        "    major_label_index = np.argmax([np.max(predictions[0]), np.max(predictions[1]), np.max(predictions[2])])\n",
        "    major_label= major_labels[major_label_index]\n",
        "\n",
        "    #determing sub - labels\n",
        "    emotion_labels_text=['sadness', 'joy', 'love', 'anger', 'fear', 'surprise']\n",
        "    violence_labels_text=['sexual_violence', 'physical_violence','emotional_violence','Harmful_traditional_practice','economic_violence']\n",
        "    hate_labels_text=['offensive speech', 'Neither', 'Hate speech']\n",
        "\n",
        "    if major_label == 'Emotion':\n",
        "        sub_label = emotion_labels_text[emotion_pred_index]\n",
        "    elif major_label == 'Violence':\n",
        "        sub_label = violence_labels_text[violence_pred_index]\n",
        "    else:\n",
        "        sub_label = hate_labels_text[hate_pred_index]\n",
        "\n",
        "    return major_label, sub_label"
      ],
      "metadata": {
        "id": "uXY9LGKgm8yx"
      },
      "execution_count": null,
      "outputs": []
    },
    {
      "cell_type": "code",
      "source": [
        "import ipywidgets as widgets\n",
        "from IPython.display import display"
      ],
      "metadata": {
        "id": "4o5WNwLTo8xO"
      },
      "execution_count": null,
      "outputs": []
    },
    {
      "cell_type": "code",
      "source": [
        "#define a text widget and a placeholder\n",
        "input_text_widget =widgets.Text(\n",
        "    description = 'Input text : ',\n",
        "    placeholder = 'Enter your text'\n",
        ")\n"
      ],
      "metadata": {
        "id": "s5oAq6SjqQAU"
      },
      "execution_count": null,
      "outputs": []
    },
    {
      "cell_type": "code",
      "source": [
        "#define classify button\n",
        "button = widgets.Button(description = 'Classify')\n"
      ],
      "metadata": {
        "id": "owQordkUqx5V"
      },
      "execution_count": null,
      "outputs": []
    },
    {
      "cell_type": "code",
      "source": [
        "#define an output area to display result\n",
        "output = widgets.Output()"
      ],
      "metadata": {
        "id": "EK7MWgyRrHRJ"
      },
      "execution_count": null,
      "outputs": []
    },
    {
      "cell_type": "code",
      "source": [
        "#function to handle event\n",
        "def on_button_click(b):\n",
        "  with output:\n",
        "    output.clear_output()  #clear the previous output\n",
        "    input_text = input_text_widget.value\n",
        "    major_label, sub_label = classify_text(input_text)\n",
        "    print(f'Major Label: {major_label}')\n",
        "    print(f'Sub Label: {sub_label}')\n",
        "\n",
        "#attach the button at bottom\n",
        "button.on_click(on_button_click)\n"
      ],
      "metadata": {
        "id": "tySYPV9SrQw5"
      },
      "execution_count": null,
      "outputs": []
    },
    {
      "cell_type": "code",
      "source": [
        "display(input_text_widget, button, output)"
      ],
      "metadata": {
        "id": "Lh-QWFkPsvlF"
      },
      "execution_count": null,
      "outputs": []
    },
    {
      "cell_type": "code",
      "source": [],
      "metadata": {
        "id": "c3HospQ5s2Vh"
      },
      "execution_count": null,
      "outputs": []
    }
  ]
}